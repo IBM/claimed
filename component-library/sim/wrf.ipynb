#! /bin/sh
ls
docker   run   -it   --name   teachme   7cf57e8f908b   /bin/tcsh
ls -ls
cd WRF
./clean -a
./configure
./compile em_real >&! foo
ls -ls main/*.exe
cd ../WPS
./configure
./compile >&! foo
ls -ls *.exe
cp namelist.wps namelist.wps.original
cp /wrf/wrfinput/namelist.wps.docker namelist.wps
./geogrid.exe
ls -ls geo_em.d01.nc
./link_grib.csh /wrf/wrfinput/fnl
cp ungrib/Variable_Tables/Vtable.GFS Vtable
./ungrib.exe
ls -ls FILE*
./metgrid.exe
ls -ls met_em.*
cd ../WRF/test/em_real
ln -sf ../../../WPS/met_em* .
cp namelist.input namelist.input.original
cp /wrf/wrfinput/namelist.input.docker namelist.input
mpirun -np 2 ./real.exe
tail rsl.out.0000
ls -ls wrfinput_d01 wrfbdy_d01
mpirun -np 3 ./wrf.exe &
tail rsl.out.0000
ls -ls wrfo*
